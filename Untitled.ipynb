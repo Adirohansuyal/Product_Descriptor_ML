{
 "cells": [
  {
   "cell_type": "code",
   "execution_count": 1,
   "id": "9b59b387-2417-4dcd-b861-fcc45915169c",
   "metadata": {},
   "outputs": [
    {
     "name": "stdout",
     "output_type": "stream",
     "text": [
      "Model Accuracy: 100.00%\n"
     ]
    }
   ],
   "source": [
    "import pandas as pd\n",
    "import numpy as np\n",
    "from sklearn.feature_extraction.text import TfidfVectorizer\n",
    "from sklearn.model_selection import train_test_split\n",
    "from sklearn.ensemble import RandomForestRegressor\n",
    "from sklearn.preprocessing import LabelEncoder\n",
    "from sklearn.metrics import mean_squared_error\n",
    "\n",
    "# Load dataset\n",
    "df = pd.read_csv(\"macbook_features_dataset.csv\")\n",
    "df[\"Features\"] = df[[\"Feature_1\", \"Feature_2\", \"Feature_3\", \"Feature_4\", \"Feature_5\"]].apply(lambda x: \" \".join(x), axis=1)\n",
    "\n",
    "# Encode descriptions\n",
    "label_encoder = LabelEncoder()\n",
    "df[\"Description_Encoded\"] = label_encoder.fit_transform(df[\"Description\"])\n",
    "\n",
    "# Vectorize text\n",
    "tfidf = TfidfVectorizer()\n",
    "X = tfidf.fit_transform(df[\"Features\"])\n",
    "y = df[\"Description_Encoded\"]\n",
    "\n",
    "# Split dataset\n",
    "X_train, X_test, y_train, y_test = train_test_split(X, y, test_size=0.2, random_state=42)\n",
    "\n",
    "# Train model\n",
    "model = RandomForestRegressor(n_estimators=100, random_state=42)\n",
    "model.fit(X_train, y_train)\n",
    "\n",
    "# Evaluate model\n",
    "y_pred = model.predict(X_test).astype(int)\n",
    "mse = mean_squared_error(y_test, y_pred)\n",
    "accuracy = 100 - mse\n",
    "\n",
    "print(f\"Model Accuracy: {accuracy:.2f}%\")\n"
   ]
  },
  {
   "cell_type": "code",
   "execution_count": null,
   "id": "af074df2-7806-4de7-8f87-068f9dec83c3",
   "metadata": {},
   "outputs": [],
   "source": []
  }
 ],
 "metadata": {
  "kernelspec": {
   "display_name": "Python 3 (ipykernel)",
   "language": "python",
   "name": "python3"
  },
  "language_info": {
   "codemirror_mode": {
    "name": "ipython",
    "version": 3
   },
   "file_extension": ".py",
   "mimetype": "text/x-python",
   "name": "python",
   "nbconvert_exporter": "python",
   "pygments_lexer": "ipython3",
   "version": "3.12.2"
  }
 },
 "nbformat": 4,
 "nbformat_minor": 5
}
